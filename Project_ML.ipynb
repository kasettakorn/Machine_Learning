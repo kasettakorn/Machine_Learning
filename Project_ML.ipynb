{
  "nbformat": 4,
  "nbformat_minor": 0,
  "metadata": {
    "colab": {
      "name": "Project ML.ipynb",
      "version": "0.3.2",
      "provenance": [],
      "collapsed_sections": [],
      "include_colab_link": true
    },
    "kernelspec": {
      "name": "python3",
      "display_name": "Python 3"
    },
    "accelerator": "GPU"
  },
  "cells": [
    {
      "cell_type": "markdown",
      "metadata": {
        "id": "view-in-github",
        "colab_type": "text"
      },
      "source": [
        "<a href=\"https://colab.research.google.com/github/kasettakorn/Machine_Learning/blob/master/Project_ML.ipynb\" target=\"_parent\"><img src=\"https://colab.research.google.com/assets/colab-badge.svg\" alt=\"Open In Colab\"/></a>"
      ]
    },
    {
      "metadata": {
        "id": "BUsj6jVf9KC-",
        "colab_type": "text"
      },
      "cell_type": "markdown",
      "source": [
        "# Indoor & Outdoor Scene Recognition"
      ]
    },
    {
      "metadata": {
        "id": "jZIDiEX18Z5C",
        "colab_type": "text"
      },
      "cell_type": "markdown",
      "source": [
        "# Loading Dataset from GitHub"
      ]
    },
    {
      "metadata": {
        "id": "4k6GC0ELBQWo",
        "colab_type": "code",
        "cellView": "code",
        "colab": {}
      },
      "cell_type": "code",
      "source": [
        "!git clone https://github.com/kasettakorn/Machine_Learning.git\n",
        "!pip install opencv-contrib-python          "
      ],
      "execution_count": 0,
      "outputs": []
    },
    {
      "metadata": {
        "id": "2_goEtnlBbLn",
        "colab_type": "code",
        "colab": {}
      },
      "cell_type": "code",
      "source": [
        "import cv2\n",
        "import os\n",
        "import numpy as np\n",
        "import pandas as pd\n",
        "from scipy import interp\n",
        "from itertools import cycle\n",
        "from keras.preprocessing import image\n",
        "from sklearn.model_selection import train_test_split\n",
        "import matplotlib.pyplot as plt\n",
        "import tensorflow as tf\n",
        "\n",
        "folders = ['Machine_Learning/Datasets/Images/bedroom',\n",
        "'Machine_Learning/Datasets/Images/bookstore',\n",
        "'Machine_Learning/Datasets/Images/concert_hall',\n",
        "'Machine_Learning/Datasets/Images/movietheater',\n",
        "'Machine_Learning/Datasets/Images/trainstation']\n",
        "sess = tf.Session()\n",
        "images = []\n",
        "labels = []\n",
        "room_label = []\n",
        "def load_image_from_folder(folder):\n",
        "    print(folder)\n",
        "    room_label.append(folder.split(os.path.sep)[-1])\n",
        "    for filename in os.listdir(folder):\n",
        "        try:\n",
        "            img = cv2.imread(os.path.join(folder, filename))\n",
        "            img = cv2.resize(img, (300,300))\n",
        "            img = image.img_to_array(img)\n",
        "            label = folder.split(os.path.sep)[-1]\n",
        "            labels.append(label)\n",
        "            images.append(img)\n",
        "           \n",
        "        except:\n",
        "       \n",
        "            continue\n",
        "\n",
        "for folder in folders:\n",
        "    load_image_from_folder(folder)\n",
        "x = np.array(images)/255\n",
        "y = np.array(labels)\n",
        "print(room_label)"
      ],
      "execution_count": 0,
      "outputs": []
    },
    {
      "metadata": {
        "id": "ruPSUGKuSP2u",
        "colab_type": "code",
        "colab": {}
      },
      "cell_type": "code",
      "source": [
        "from sklearn.preprocessing import LabelEncoder, OneHotEncoder\n",
        "# integer encode\n",
        "label_encoder = LabelEncoder()\n",
        "integer_encoded = label_encoder.fit_transform(y)\n",
        "print(integer_encoded)\n",
        "# binary encode\n",
        "onehot_encoder = OneHotEncoder(sparse=False)\n",
        "integer_encoded = integer_encoded.reshape(len(integer_encoded), 1)\n",
        "onehot_encoded = onehot_encoder.fit_transform(integer_encoded)\n",
        "y = np.array(onehot_encoded) \n",
        "print(y)"
      ],
      "execution_count": 0,
      "outputs": []
    },
    {
      "metadata": {
        "id": "hkbQAlJk8vgF",
        "colab_type": "text"
      },
      "cell_type": "markdown",
      "source": [
        "# Random sampling (train_test_split)"
      ]
    },
    {
      "metadata": {
        "id": "WM261A3ESxis",
        "colab_type": "code",
        "colab": {}
      },
      "cell_type": "code",
      "source": [
        "from sklearn.model_selection import train_test_split\n",
        "(x_train, x_test, y_train, y_test) = train_test_split(x, y, test_size=0.15, random_state=42)\n",
        "\n",
        "print(\"x_train shape = \", x_train.shape)\n",
        "print(\"y_train shape = \",y_train.shape)\n",
        "print(\"x_test shape = \",x_test.shape)\n",
        "print(\"y_test shape = \",y_test.shape)\n"
      ],
      "execution_count": 0,
      "outputs": []
    },
    {
      "metadata": {
        "id": "w6_12L7M7_r1",
        "colab_type": "text"
      },
      "cell_type": "markdown",
      "source": [
        "# Convolution Definition"
      ]
    },
    {
      "metadata": {
        "id": "qR-Gk3FmS07P",
        "colab_type": "code",
        "colab": {}
      },
      "cell_type": "code",
      "source": [
        "#Convolution-NN\n",
        "from keras.models import Sequential\n",
        "from keras.layers import Conv2D, MaxPooling2D, Activation\n",
        "from keras.layers import Flatten, Dense\n",
        "from keras.layers import BatchNormalization\n",
        "\n",
        "cnn = Sequential()\n",
        "\n",
        "cnn.add(Conv2D(16, (3, 3), input_shape=(300,300,3), activation='relu'))\n",
        "cnn.add(MaxPooling2D(pool_size = (3, 3)))\n",
        "cnn.add(Activation('relu'))\n",
        "\n",
        "\n",
        "cnn.add(Conv2D(32, (3, 3) ,activation='relu'))\n",
        "cnn.add(MaxPooling2D(pool_size = (3, 3)))\n",
        "\n",
        "\n",
        "cnn.add(Conv2D(64, (3, 3) ,activation='relu'))\n",
        "cnn.add(MaxPooling2D(pool_size = (3, 3)))\n",
        "\n",
        "cnn.add(Conv2D(64, (3, 3) ,activation='relu'))\n",
        "cnn.add(Conv2D(64, (3, 3) ,activation='relu'))\n",
        "cnn.add(MaxPooling2D(pool_size = (3, 3)))\n",
        "\n",
        "\n",
        "cnn.add(Flatten())\n",
        "cnn.add(Dense(150, activation='relu'))\n",
        "cnn.add(Dense(80, activation='relu'))\n",
        "cnn.add(Dense(5, activation='softmax'))\n",
        "\n",
        "cnn.compile(loss='categorical_crossentropy', metrics=['accuracy'], optimizer='adam')\n",
        "print(cnn.summary())\n",
        "\n",
        "\n",
        "history = cnn.fit(x_train, y_train, epochs=25, batch_size=32)\n",
        "plt.plot(history.history['loss'])\n",
        "plt.title('MLP model loss')\n",
        "plt.ylabel('loss')\n",
        "plt.xlabel('epoch')\n",
        "plt.show()"
      ],
      "execution_count": 0,
      "outputs": []
    },
    {
      "metadata": {
        "id": "jy_9tEeVUotM",
        "colab_type": "code",
        "colab": {}
      },
      "cell_type": "code",
      "source": [
        "#Test Image\n",
        "result = cnn.predict_classes(x_test, batch_size=32, verbose=0)\n"
      ],
      "execution_count": 0,
      "outputs": []
    },
    {
      "metadata": {
        "id": "ObmoKqwQ7DfH",
        "colab_type": "text"
      },
      "cell_type": "markdown",
      "source": [
        "**CNN Evaluate**\n"
      ]
    },
    {
      "metadata": {
        "id": "IKTVIt31ZQNw",
        "colab_type": "code",
        "colab": {}
      },
      "cell_type": "code",
      "source": [
        "score = cnn.evaluate(x_test, y_test, verbose=0)\n",
        "print(cnn.metrics_names)\n",
        "print(score)\n",
        "print(\"Accuracy = %.2f %%\" % (score[1]*100))"
      ],
      "execution_count": 0,
      "outputs": []
    },
    {
      "metadata": {
        "id": "sLsaM1Eb8PHe",
        "colab_type": "text"
      },
      "cell_type": "markdown",
      "source": [
        "# ROC Curve"
      ]
    },
    {
      "metadata": {
        "id": "BUiEdEGK7TMY",
        "colab_type": "code",
        "colab": {}
      },
      "cell_type": "code",
      "source": [
        "# ROC Curve \n",
        "from sklearn.metrics import roc_curve,auc\n",
        "n_classes=5\n",
        "pred1=cnn.predict(x_test)\n",
        "room_label = list(room_label)\n",
        "fpr = dict()\n",
        "tpr = dict()\n",
        "roc_auc = dict()\n",
        "print(result[:10])\n",
        "actual = []\n",
        "for i in range(len(y_test)):\n",
        "    for j in range(n_classes):\n",
        "        if y_test[i][j] == 1:\n",
        "            actual.append(j)\n",
        "actual = np.array(actual)\n",
        "print(np.shape(actual))\n",
        "print(np.shape(pred1))\n",
        "\n",
        "for i in range(n_classes):\n",
        "    fpr[i], tpr[i], _ = roc_curve(np.array(pd.get_dummies(actual))[:, i], np.array(pd.get_dummies(result))[:, i])\n",
        "    roc_auc[i] = auc(fpr[i], tpr[i])\n",
        "\n",
        "\n",
        "all_fpr = np.unique(np.concatenate([fpr[i] for i in range(n_classes)]))\n",
        "\n",
        "mean_tpr = np.zeros_like(all_fpr)\n",
        "for i in range(n_classes):\n",
        "    mean_tpr += interp(all_fpr, fpr[i], tpr[i])\n",
        "\n",
        "mean_tpr /= n_classes\n",
        "\n",
        "fpr[\"macro\"] = all_fpr\n",
        "tpr[\"macro\"] = mean_tpr\n",
        "roc_auc[\"macro\"] = auc(fpr[\"macro\"], tpr[\"macro\"])\n",
        "\n",
        "lw=2\n",
        "plt.figure(figsize=(8,5))\n",
        "plt.plot(fpr[\"macro\"], tpr[\"macro\"],\n",
        "         label='Average ROC curve (area = {0:0.2f})'\n",
        "               ''.format(roc_auc[\"macro\"]),\n",
        "         color='green', linestyle=':', linewidth=4)\n",
        "\n",
        "colors = cycle(['black', 'darkorange', 'cornflowerblue', 'blue', 'yellow'])\n",
        "\n",
        "for i, color in zip(range(n_classes), colors):\n",
        "        \n",
        "    plt.plot(fpr[i], tpr[i], color=color, lw=lw,\n",
        "             label='ROC curve of class {0} (area = {1:0.2f})'\n",
        "             ''.format(room_label[i], roc_auc[i]))\n",
        "\n",
        "plt.plot([0, 1], [0, 1], 'k--',color='red', lw=lw)\n",
        "plt.xlim([0.0, 1.0])\n",
        "plt.ylim([0.0, 1.05])\n",
        "plt.annotate('Random Guess',(.55,.48),color='red')\n",
        "plt.xlabel('False Positive Rate (FPR)')\n",
        "plt.ylabel('True Positive Rate (TPR)')\n",
        "plt.title('Convolution Evaluation (ROC Curve) - Room Classifier')\n",
        "plt.legend(loc=\"lower right\")\n",
        "plt.show()\n"
      ],
      "execution_count": 0,
      "outputs": []
    },
    {
      "metadata": {
        "id": "hy8HjkcNAsFL",
        "colab_type": "text"
      },
      "cell_type": "markdown",
      "source": [
        "# Test Image with Matplotlib"
      ]
    },
    {
      "metadata": {
        "id": "ECF8aciRujak",
        "colab_type": "code",
        "colab": {}
      },
      "cell_type": "code",
      "source": [
        "import matplotlib.pyplot as plt\n",
        "import numpy as np\n",
        "a = np.random.randint(1200,size=10)\n",
        "test = np.concatenate(integer_encoded)\n",
        "\n",
        "#print(a)\n",
        "#print('Example training images and their labels: ') \n",
        "#print(a)\n",
        "\n",
        "print('Predicted Class for the labels: ')\n",
        "\n",
        "f, axarr = plt.subplots(1, 10)\n",
        "f.set_size_inches(30,30)\n",
        "\n",
        "for i in range(10):\n",
        "   # print(a[i])\n",
        "    print(\"Image Test #\", i+1, \"is\", room_label[test[a[i]]])\n",
        "    pic = images[a[i]]*255\n",
        "    axarr[i].axis(\"off\")\n",
        "    axarr[i].imshow(pic)\n",
        "plt.show()"
      ],
      "execution_count": 0,
      "outputs": []
    }
  ]
}